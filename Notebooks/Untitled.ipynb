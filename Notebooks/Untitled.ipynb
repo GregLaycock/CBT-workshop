{
 "cells": [
  {
   "cell_type": "code",
   "execution_count": 637,
   "metadata": {
    "collapsed": false
   },
   "outputs": [],
   "source": [
    "import numpy as np\n",
    "import sympy as sp\n",
    "from sympy import *\n",
    "init_printing()"
   ]
  },
  {
   "cell_type": "code",
   "execution_count": 680,
   "metadata": {
    "collapsed": false
   },
   "outputs": [],
   "source": [
    "class state_space:\n",
    "    'state space system with the usual matrices A,B,C,D note format is important.u and x are 1 x n arrays while B is typically an n x 1 array and A is an nxn array'\n",
    "    \n",
    "    def __init__(self, A,B,C,D):\n",
    "        self.A = A\n",
    "        self.B = B\n",
    "        self.C = C\n",
    "        self.D = D\n",
    "        self.Nstates = self.A.shape[0]\n",
    "\n",
    "        \n",
    "    def get_sigma(self):\n",
    "        import sympy as sp\n",
    "        from sympy.matrices import Matrix\n",
    "        s = sp.Symbol('s')\n",
    "        si = s*np.eye(sys.Nstates)\n",
    "        prob = si - self.A\n",
    "        almost_sig = Matrix(prob)\n",
    "        sigma = almost_sig.inv()\n",
    "        return sigma\n",
    "    \n",
    "    def tf(self):\n",
    "        import sympy as sp\n",
    "        from sympy.matrices import Matrix\n",
    "        s = sp.Symbol('s')\n",
    "        sigma = self.get_sigma()\n",
    "        A,B,C, = Matrix(self.A), Matrix(self.B),Matrix(self.C),#Matrix(self.D)\n",
    "        trans = C*sigma*B\n",
    "        return trans[0].together()\n",
    "    \n",
    "\n",
    "class transfunc:\n",
    "    'transfer function class to be develloped and used'\n",
    "    \n",
    "        \n",
    "    def __init__(self,num,denom):\n",
    "        import sympy as sp\n",
    "        import numpy as np\n",
    "        def sumstuff(lis):\n",
    "            ans = 0\n",
    "            for i in lis:\n",
    "                ans += i\n",
    "            return ans\n",
    "        s = sp.Symbol('s')\n",
    "        blarg = [(val*s**(len(num)-i)) for [i,val] in enumerate(num)] \n",
    "        blimp = [(val*s**(len(denom)-i)) for [i,val] in enumerate(denom)] \n",
    "        self.tf = sumstuff(blarg)/sumstuff(blimp)\n",
    "        \n",
    "        \n",
    "    def A(self):\n",
    "        \n",
    "        \n",
    " "
   ]
  },
  {
   "cell_type": "code",
   "execution_count": 681,
   "metadata": {
    "collapsed": false
   },
   "outputs": [],
   "source": []
  },
  {
   "cell_type": "code",
   "execution_count": 683,
   "metadata": {
    "collapsed": false
   },
   "outputs": [
    {
     "data": {
      "image/png": "[encoded data removed]",
      "text/latex": [
       "$$\\frac{s^{2} + 2 s}{3 s^{3} + 3 s^{2} + 4 s}$$"
      ],
      "text/plain": [
       "      2          \n",
       "     s  + 2⋅s    \n",
       "─────────────────\n",
       "   3      2      \n",
       "3⋅s  + 3⋅s  + 4⋅s"
      ]
     },
     "execution_count": 683,
     "metadata": {},
     "output_type": "execute_result"
    }
   ],
   "source": [
    "G.tf"
   ]
  },
  {
   "cell_type": "code",
   "execution_count": null,
   "metadata": {
    "collapsed": true
   },
   "outputs": [],
   "source": []
  }
 ],
 "metadata": {
  "kernelspec": {
   "display_name": "Python 3",
   "language": "python",
   "name": "python3"
  },
  "language_info": {
   "codemirror_mode": {
    "name": "ipython",
    "version": 3
   },
   "file_extension": ".py",
   "mimetype": "text/x-python",
   "name": "python",
   "nbconvert_exporter": "python",
   "pygments_lexer": "ipython3",
   "version": "3.6.0"
  }
 },
 "nbformat": 4,
 "nbformat_minor": 2
}
