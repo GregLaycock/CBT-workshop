{
 "cells": [
  {
   "cell_type": "code",
   "execution_count": 387,
   "metadata": {
    "collapsed": false
   },
   "outputs": [],
   "source": [
    "import numpy as np\n",
    "import sympy as sp\n",
    "from sympy import *\n",
    "init_printing()"
   ]
  },
  {
   "cell_type": "code",
   "execution_count": 603,
   "metadata": {
    "collapsed": false
   },
   "outputs": [],
   "source": [
    "class state_space:\n",
    "    'state space system with the usual matrices A,B,C,D'\n",
    "    \n",
    "    def __init__(self, A,B,C,D):\n",
    "        self.A = A\n",
    "        self.B = B\n",
    "        self.C = C\n",
    "        self.D = D\n",
    "        self.Nstates = self.A.shape[0]\n",
    "\n",
    "    def get_sigma(self):\n",
    "        import sympy as sp\n",
    "        from sympy.matrices import Matrix\n",
    "        s = sp.Symbol('s')\n",
    "        si = s*np.eye(sys.Nstates)\n",
    "        prob = si - self.A\n",
    "        almost_sig = Matrix(prob)\n",
    "        sigma = almost_sig.inv()\n",
    "        return sigma\n",
    "    \n",
    "    def tf(self):\n",
    "        import sympy as sp\n",
    "        from sympy.matrices import Matrix\n",
    "        s = sp.Symbol('s')\n",
    "        sigma = self.get_sigma()\n",
    "        A,B,C, = Matrix(self.A), Matrix(self.B),Matrix(self.C),#Matrix(self.D)\n",
    "        trans = C*sigma*B\n",
    "        return trans[0].together()"
   ]
  },
  {
   "cell_type": "code",
   "execution_count": 604,
   "metadata": {
    "collapsed": false
   },
   "outputs": [],
   "source": [
    "a = np.matrix([[0,1,0],\n",
    "                [0,0,1],\n",
    "                [-3,-4,-2]])\n",
    "\n",
    "b = np.matrix([[0],\n",
    "               [0],\n",
    "               [1]])\n",
    "c = np.matrix([5,1,0])\n",
    "d = np.zeros_like(b)\n",
    "si = s*np.eye(sys.Nstates)\n",
    "prob = si - sys.A\n",
    "almost_sig = Matrix(prob)\n",
    "sys = state_space(a,b,c,d)\n",
    "\n",
    "sigma = sys.get_sigma()\n",
    "#y_u = sys.C.dot(sigma)"
   ]
  },
  {
   "cell_type": "code",
   "execution_count": 605,
   "metadata": {
    "collapsed": false
   },
   "outputs": [],
   "source": [
    "C = Matrix(sys.C)\n",
    "B = Matrix(sys.B)"
   ]
  },
  {
   "cell_type": "code",
   "execution_count": 606,
   "metadata": {
    "collapsed": false
   },
   "outputs": [],
   "source": [
    "k = Matrix(C*sigma).dot(B)"
   ]
  }
 ],
 "metadata": {
  "kernelspec": {
   "display_name": "Python 3",
   "language": "python",
   "name": "python3"
  },
  "language_info": {
   "codemirror_mode": {
    "name": "ipython",
    "version": 3
   },
   "file_extension": ".py",
   "mimetype": "text/x-python",
   "name": "python",
   "nbconvert_exporter": "python",
   "pygments_lexer": "ipython3",
   "version": "3.6.0"
  }
 },
 "nbformat": 4,
 "nbformat_minor": 2
}
